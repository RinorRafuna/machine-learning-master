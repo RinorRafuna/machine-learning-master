{
 "cells": [
  {
   "cell_type": "code",
   "execution_count": 38,
   "id": "401dacec",
   "metadata": {},
   "outputs": [],
   "source": [
    "import pandas as pd\n",
    "import numpy as np\n",
    "from collections import Counter\n",
    "from sklearn.feature_selection import SelectKBest\n",
    "from sklearn.feature_selection import chi2\n",
    "from sklearn.feature_selection import RFE\n",
    "from sklearn.linear_model import LogisticRegression\n",
    "from sklearn.linear_model import Ridge\n",
    "from sklearn import preprocessing\n",
    "\n",
    "from sklearn.tree import DecisionTreeClassifier # Import Decision Tree Classifier\n",
    "from sklearn.model_selection import train_test_split # Import train_test_split function\n",
    "from sklearn import metrics #Import scikit-learn metrics module for accuracy calculation\n",
    "\n",
    "from sklearn.ensemble import RandomForestClassifier\n",
    "from sklearn.naive_bayes import GaussianNB\n",
    "\n",
    "from sklearn.linear_model import LinearRegression, Lasso, Ridge, ElasticNet\n",
    "from sklearn.model_selection import cross_val_score, train_test_split, GridSearchCV\n",
    "from IPython.display import HTML\n",
    "from scipy.special import inv_boxcox\n",
    "from scipy import stats\n",
    "from matplotlib import pyplot as plt\n",
    "import seaborn as sns\n",
    "from sklearn.model_selection import cross_val_score\n",
    "from sklearn import svm\n",
    "\n",
    "from warnings import simplefilter\n",
    "simplefilter(action='ignore', category=FutureWarning)"
   ]
  },
  {
   "cell_type": "code",
   "execution_count": 39,
   "id": "29c5eb7d",
   "metadata": {},
   "outputs": [],
   "source": [
    "nCoV_20200121_20200206_dataset = pd.read_csv(\"2. 2019_nCoV_20200121_20200206.csv\")"
   ]
  },
  {
   "cell_type": "code",
   "execution_count": 40,
   "id": "9817b7b5",
   "metadata": {},
   "outputs": [
    {
     "name": "stdout",
     "output_type": "stream",
     "text": [
      "Numri i atributeve në dataset është: 6\n",
      "Numri i objekteve në dataset është: 1877\n"
     ]
    }
   ],
   "source": [
    "attr_obj = nCoV_20200121_20200206_dataset.shape\n",
    "print(f\"Numri i atributeve në dataset është: {attr_obj[1]}\")\n",
    "print(f\"Numri i objekteve në dataset është: {attr_obj[0]}\")"
   ]
  },
  {
   "cell_type": "code",
   "execution_count": 41,
   "id": "d94176d6",
   "metadata": {},
   "outputs": [
    {
     "data": {
      "text/plain": [
       "Province/State     object\n",
       "Country/Region     object\n",
       "Last Update        object\n",
       "Confirmed         float64\n",
       "Recovered         float64\n",
       "Death             float64\n",
       "dtype: object"
      ]
     },
     "execution_count": 41,
     "metadata": {},
     "output_type": "execute_result"
    }
   ],
   "source": [
    "nCoV_20200121_20200206_dataset.dtypes"
   ]
  },
  {
   "cell_type": "code",
   "execution_count": 42,
   "id": "09b35deb",
   "metadata": {},
   "outputs": [],
   "source": [
    "def num_missing(x):\n",
    "  return sum(x.isnull())"
   ]
  },
  {
   "cell_type": "code",
   "execution_count": 43,
   "id": "bcb40f7e",
   "metadata": {},
   "outputs": [
    {
     "name": "stdout",
     "output_type": "stream",
     "text": [
      "Numri i vlerave që mungojnë në çdo kolonë:\n",
      "Province/State    459\n",
      "Country/Region      0\n",
      "Last Update         0\n",
      "Confirmed          30\n",
      "Recovered         876\n",
      "Death             999\n",
      "dtype: int64\n"
     ]
    }
   ],
   "source": [
    "print(\"Numri i vlerave që mungojnë në çdo kolonë:\")\n",
    "print(nCoV_20200121_20200206_dataset.apply(num_missing, axis=0)) #axis=0 nenkupton qe funksionoi num_missing do te aplikohet ne cdo kolone"
   ]
  },
  {
   "cell_type": "code",
   "execution_count": 44,
   "id": "48c721eb",
   "metadata": {},
   "outputs": [],
   "source": [
    "def nullToModeValue(kolona):\n",
    "    duration_column = nCoV_20200121_20200206_dataset[kolona]\n",
    "    duration_counter = Counter(duration_column)\n",
    "\n",
    "    print(f'\\nNumri i vlerave null në kolonën {kolona} : {nCoV_20200121_20200206_dataset[kolona].isnull().sum()}')\n",
    "    \n",
    "    print(\"Vlera më së shumti e përsëritur:\", duration_counter.most_common(1)[0][0])\n",
    "    nCoV_20200121_20200206_dataset[kolona].fillna(duration_counter.most_common(1)[0][0], inplace=True)\n",
    "    print(f'\\nNumri i vlerave null pas plotësimit të vlerave NaN në kolonën {kolona} : {nCoV_20200121_20200206_dataset[kolona].isnull().sum()}')"
   ]
  },
  {
   "cell_type": "code",
   "execution_count": 45,
   "id": "045faac3",
   "metadata": {},
   "outputs": [
    {
     "name": "stdout",
     "output_type": "stream",
     "text": [
      "\n",
      "Numri i vlerave null në kolonën Confirmed : 30\n",
      "Vlera më së shumti e përsëritur: 1.0\n",
      "\n",
      "Numri i vlerave null pas plotësimit të vlerave NaN në kolonën Confirmed : 0\n"
     ]
    }
   ],
   "source": [
    "nullToModeValue('Confirmed')"
   ]
  },
  {
   "cell_type": "code",
   "execution_count": 46,
   "id": "a37f33b0",
   "metadata": {},
   "outputs": [
    {
     "name": "stdout",
     "output_type": "stream",
     "text": [
      "\n",
      "Numri i vlerave null në kolonën Recovered : 876\n",
      "Vlera më së shumti e përsëritur: 0.0\n",
      "\n",
      "Numri i vlerave null pas plotësimit të vlerave NaN në kolonën Recovered : 0\n"
     ]
    }
   ],
   "source": [
    "nullToModeValue('Recovered')"
   ]
  },
  {
   "cell_type": "code",
   "execution_count": 47,
   "id": "4f290dfc",
   "metadata": {},
   "outputs": [
    {
     "name": "stdout",
     "output_type": "stream",
     "text": [
      "\n",
      "Numri i vlerave null në kolonën Death : 999\n",
      "Vlera më së shumti e përsëritur: 0.0\n",
      "\n",
      "Numri i vlerave null pas plotësimit të vlerave NaN në kolonën Death : 0\n"
     ]
    }
   ],
   "source": [
    "nullToModeValue('Death')"
   ]
  },
  {
   "cell_type": "code",
   "execution_count": 48,
   "id": "312d56c6",
   "metadata": {},
   "outputs": [
    {
     "name": "stdout",
     "output_type": "stream",
     "text": [
      "Numri i vlerave që mungojnë në çdo kolonë:\n",
      "Province/State    459\n",
      "Country/Region      0\n",
      "Last Update         0\n",
      "Confirmed           0\n",
      "Recovered           0\n",
      "Death               0\n",
      "dtype: int64\n"
     ]
    }
   ],
   "source": [
    "print(\"Numri i vlerave që mungojnë në çdo kolonë:\")\n",
    "print(nCoV_20200121_20200206_dataset.apply(num_missing, axis=0))"
   ]
  },
  {
   "cell_type": "code",
   "execution_count": 49,
   "id": "c996eeca",
   "metadata": {},
   "outputs": [
    {
     "name": "stdout",
     "output_type": "stream",
     "text": [
      "Numri i rreshtave të përsëritur = 433\n"
     ]
    }
   ],
   "source": [
    "dups = nCoV_20200121_20200206_dataset.duplicated()\n",
    "print('Numri i rreshtave të përsëritur = %d' % (dups.sum()))"
   ]
  },
  {
   "cell_type": "code",
   "execution_count": 50,
   "id": "6858c76c",
   "metadata": {},
   "outputs": [],
   "source": [
    "x_confirmed = nCoV_20200121_20200206_dataset['Confirmed']\n",
    "y_death = nCoV_20200121_20200206_dataset['Death']\n",
    "z_death = nCoV_20200121_20200206_dataset['Recovered']"
   ]
  },
  {
   "cell_type": "code",
   "execution_count": 55,
   "id": "8d0b2d36",
   "metadata": {},
   "outputs": [
    {
     "data": {
      "text/plain": [
       "Text(0, 0.5, 'Death')"
      ]
     },
     "execution_count": 55,
     "metadata": {},
     "output_type": "execute_result"
    },
    {
     "data": {
      "image/png": "[encoded data removed]",
      "text/plain": [
       "<Figure size 720x360 with 1 Axes>"
      ]
     },
     "metadata": {
      "needs_background": "light"
     },
     "output_type": "display_data"
    }
   ],
   "source": [
    "plt.scatter(x_confirmed,y_death)\n",
    "plt.rcParams[\"figure.figsize\"] = (10,7)\n",
    "plt.xlabel('Confirmed')\n",
    "plt.ylabel('Death')"
   ]
  },
  {
   "cell_type": "code",
   "execution_count": 56,
   "id": "f98b2e2c",
   "metadata": {},
   "outputs": [
    {
     "data": {
      "text/plain": [
       "Text(0, 0.5, 'Recovered')"
      ]
     },
     "execution_count": 56,
     "metadata": {},
     "output_type": "execute_result"
    },
    {
     "data": {
      "image/png": "[encoded data removed]",
      "text/plain": [
       "<Figure size 720x504 with 1 Axes>"
      ]
     },
     "metadata": {
      "needs_background": "light"
     },
     "output_type": "display_data"
    }
   ],
   "source": [
    "plt.scatter(x_confirmed,z_death)\n",
    "plt.rcParams[\"figure.figsize\"] = (20,10)\n",
    "plt.xlabel('Confirmed')\n",
    "plt.ylabel('Recovered')"
   ]
  },
  {
   "cell_type": "code",
   "execution_count": 57,
   "id": "ecbbe560",
   "metadata": {},
   "outputs": [],
   "source": [
    "#split dataset in features and target variable\n",
    "columns_fields = ['Recovered']\n",
    "X = nCoV_20200121_20200206_dataset[columns_fields] # Features\n",
    "y = nCoV_20200121_20200206_dataset.Death # Target variable"
   ]
  },
  {
   "cell_type": "code",
   "execution_count": 58,
   "id": "35579ae7",
   "metadata": {},
   "outputs": [],
   "source": [
    "# Split dataset into training set and test set\n",
    "X_train, X_test, y_train, y_test = train_test_split(X, y, test_size=0.3, random_state=1) # 70% training and 30% test"
   ]
  },
  {
   "cell_type": "code",
   "execution_count": 59,
   "id": "6f1ad0c4",
   "metadata": {},
   "outputs": [],
   "source": [
    "clf = svm.SVC(kernel='linear', C=1, random_state=42)"
   ]
  },
  {
   "cell_type": "code",
   "execution_count": 60,
   "id": "7b5bbc50",
   "metadata": {},
   "outputs": [
    {
     "name": "stderr",
     "output_type": "stream",
     "text": [
      "C:\\Users\\HP\\anaconda3\\lib\\site-packages\\sklearn\\model_selection\\_split.py:676: UserWarning: The least populated class in y has only 1 members, which is less than n_splits=5.\n",
      "  warnings.warn(\n"
     ]
    }
   ],
   "source": [
    "scores = cross_val_score(clf, X, y, cv=5)"
   ]
  },
  {
   "cell_type": "code",
   "execution_count": 61,
   "id": "230f939e",
   "metadata": {},
   "outputs": [
    {
     "name": "stdout",
     "output_type": "stream",
     "text": [
      "0.88 accuracy with a standard deviation of 0.01\n"
     ]
    }
   ],
   "source": [
    "print(\"%0.2f accuracy with a standard deviation of %0.2f\" % (scores.mean(), scores.std()))"
   ]
  },
  {
   "cell_type": "code",
   "execution_count": 63,
   "id": "1086505f",
   "metadata": {},
   "outputs": [],
   "source": [
    "# Create Decision Tree classifer object\n",
    "clf_decission_tree = DecisionTreeClassifier()\n",
    "\n",
    "# Train Decision Tree Classifer\n",
    "clf_decission_tree = clf_decission_tree.fit(X_train,y_train)\n",
    "\n",
    "#Predict the response for test dataset\n",
    "y_pred_decission_tree_clf = clf_decission_tree.predict(X_test)"
   ]
  },
  {
   "cell_type": "code",
   "execution_count": 66,
   "id": "533304cd",
   "metadata": {},
   "outputs": [
    {
     "name": "stdout",
     "output_type": "stream",
     "text": [
      "Accuracy: 0.8900709219858156\n",
      "Mean Absolute Error: 0.601063829787234\n",
      "Correct Score: 0.8900709219858156\n",
      "Kappa Score: 0.4000205895473733\n"
     ]
    }
   ],
   "source": [
    "# Model Accuracy, how often is the classifier correct?\n",
    "print(\"Accuracy:\",metrics.accuracy_score(y_test, y_pred_decission_tree_clf))\n",
    "print(\"Mean Absolute Error:\",metrics.mean_absolute_error(y_test, y_pred_decission_tree_clf))\n",
    "print(\"Correct Score:\",metrics.recall_score(y_test, y_pred_decission_tree_clf, average='micro'))\n",
    "print(\"Kappa Score:\",metrics.cohen_kappa_score(y_test, y_pred_decission_tree_clf))"
   ]
  },
  {
   "cell_type": "code",
   "execution_count": 67,
   "id": "e14c9fc8",
   "metadata": {},
   "outputs": [
    {
     "data": {
      "text/plain": [
       "array([[481,   8,   1,   0,   0,   0,   0,   0,   0,   0],\n",
       "       [ 37,  17,   0,   0,   0,   0,   0,   0,   0,   0],\n",
       "       [  8,   4,   0,   1,   0,   0,   0,   0,   0,   0],\n",
       "       [  1,   0,   0,   0,   0,   0,   0,   0,   0,   0],\n",
       "       [  0,   0,   0,   0,   0,   0,   0,   0,   0,   0],\n",
       "       [  0,   0,   0,   0,   2,   0,   0,   0,   0,   0],\n",
       "       [  0,   0,   0,   0,   0,   0,   1,   0,   0,   0],\n",
       "       [  0,   0,   0,   0,   0,   0,   0,   1,   0,   0],\n",
       "       [  0,   0,   0,   0,   0,   0,   0,   0,   1,   0],\n",
       "       [  0,   0,   0,   0,   0,   0,   0,   0,   0,   1]], dtype=int64)"
      ]
     },
     "execution_count": 67,
     "metadata": {},
     "output_type": "execute_result"
    }
   ],
   "source": [
    "clf_decission_tree_confusion_matrix = metrics.confusion_matrix(y_test, y_pred_decission_tree_clf)\n",
    "clf_decission_tree_confusion_matrix"
   ]
  },
  {
   "cell_type": "code",
   "execution_count": 68,
   "id": "7eb1cc8d",
   "metadata": {},
   "outputs": [],
   "source": [
    "#Create a Random Forest Classifier\n",
    "clf_random_forest = RandomForestClassifier(n_estimators=100)\n",
    "\n",
    "#Train the model using the training sets y_pred=clf.predict(X_test)\n",
    "clf_random_forest.fit(X_train,y_train)\n",
    "\n",
    "y_pred_random_forest_clf = clf_random_forest.predict(X_test)"
   ]
  },
  {
   "cell_type": "code",
   "execution_count": 69,
   "id": "26880dfa",
   "metadata": {},
   "outputs": [
    {
     "name": "stdout",
     "output_type": "stream",
     "text": [
      "Accuracy: 0.8865248226950354\n",
      "Mean Absolute Error: 0.6046099290780141\n",
      "Correct Score: 0.8865248226950354\n",
      "Kappa Score: 0.3986605804151535\n"
     ]
    }
   ],
   "source": [
    "# Model Accuracy, how often is the classifier correct?\n",
    "print(\"Accuracy:\",metrics.accuracy_score(y_test, y_pred_random_forest_clf))\n",
    "print(\"Mean Absolute Error:\",metrics.mean_absolute_error(y_test, y_pred_random_forest_clf))\n",
    "print(\"Correct Score:\",metrics.recall_score(y_test, y_pred_random_forest_clf, average='micro'))\n",
    "print(\"Kappa Score:\",metrics.cohen_kappa_score(y_test, y_pred_random_forest_clf))"
   ]
  },
  {
   "cell_type": "code",
   "execution_count": 70,
   "id": "e6e49892",
   "metadata": {},
   "outputs": [
    {
     "data": {
      "text/plain": [
       "array([[478,  11,   1,   0,   0,   0,   0,   0,   0,   0],\n",
       "       [ 36,  18,   0,   0,   0,   0,   0,   0,   0,   0],\n",
       "       [  8,   4,   0,   1,   0,   0,   0,   0,   0,   0],\n",
       "       [  1,   0,   0,   0,   0,   0,   0,   0,   0,   0],\n",
       "       [  0,   0,   0,   0,   0,   0,   0,   0,   0,   0],\n",
       "       [  0,   0,   0,   0,   2,   0,   0,   0,   0,   0],\n",
       "       [  0,   0,   0,   0,   0,   0,   1,   0,   0,   0],\n",
       "       [  0,   0,   0,   0,   0,   0,   0,   1,   0,   0],\n",
       "       [  0,   0,   0,   0,   0,   0,   0,   0,   1,   0],\n",
       "       [  0,   0,   0,   0,   0,   0,   0,   0,   0,   1]], dtype=int64)"
      ]
     },
     "execution_count": 70,
     "metadata": {},
     "output_type": "execute_result"
    }
   ],
   "source": [
    "clf_random_forest_confusion_matrix = metrics.confusion_matrix(y_test, y_pred_random_forest_clf)\n",
    "clf_random_forest_confusion_matrix"
   ]
  },
  {
   "cell_type": "code",
   "execution_count": 71,
   "id": "de32553f",
   "metadata": {},
   "outputs": [],
   "source": [
    "# Create a Gaussian Classifier\n",
    "clf_gaussian = GaussianNB()\n",
    "clf_gaussian.fit(X_train, y_train)\n",
    "y_pred_gaussian_clf = clf_gaussian.predict(X_test)"
   ]
  },
  {
   "cell_type": "code",
   "execution_count": 72,
   "id": "6342f765",
   "metadata": {},
   "outputs": [
    {
     "name": "stdout",
     "output_type": "stream",
     "text": [
      "Accuracy: 0.8581560283687943\n",
      "Mean Absolute Error: 2.24468085106383\n",
      "Correct Score: 0.8581560283687943\n",
      "Kappa Score: 0.11289371239825419\n"
     ]
    }
   ],
   "source": [
    "# Model Accuracy, how often is the classifier correct?\n",
    "print(\"Accuracy:\",metrics.accuracy_score(y_test, y_pred_gaussian_clf))\n",
    "print(\"Mean Absolute Error:\",metrics.mean_absolute_error(y_test, y_pred_gaussian_clf))\n",
    "print(\"Correct Score:\",metrics.recall_score(y_test, y_pred_gaussian_clf, average='micro'))\n",
    "print(\"Kappa Score:\",metrics.cohen_kappa_score(y_test, y_pred_gaussian_clf))"
   ]
  },
  {
   "cell_type": "code",
   "execution_count": 73,
   "id": "ba14060d",
   "metadata": {},
   "outputs": [
    {
     "data": {
      "text/plain": [
       "array([[482,   0,   8,   0,   0,   0,   0,   0,   0,   0],\n",
       "       [ 52,   0,   2,   0,   0,   0,   0,   0,   0,   0],\n",
       "       [ 11,   0,   1,   1,   0,   0,   0,   0,   0,   0],\n",
       "       [  0,   0,   1,   0,   0,   0,   0,   0,   0,   0],\n",
       "       [  0,   0,   0,   0,   0,   0,   0,   0,   0,   0],\n",
       "       [  0,   0,   0,   0,   2,   0,   0,   0,   0,   0],\n",
       "       [  0,   0,   0,   0,   1,   0,   0,   0,   0,   0],\n",
       "       [  0,   0,   1,   0,   0,   0,   0,   0,   0,   0],\n",
       "       [  0,   0,   0,   0,   0,   0,   0,   0,   1,   0],\n",
       "       [  0,   0,   1,   0,   0,   0,   0,   0,   0,   0]], dtype=int64)"
      ]
     },
     "execution_count": 73,
     "metadata": {},
     "output_type": "execute_result"
    }
   ],
   "source": [
    "clf_gaussian_confusion_matrix = metrics.confusion_matrix(y_test, y_pred_gaussian_clf)\n",
    "clf_gaussian_confusion_matrix"
   ]
  },
  {
   "cell_type": "code",
   "execution_count": 74,
   "id": "199c87d1",
   "metadata": {},
   "outputs": [],
   "source": [
    "#split dataset in features and target variable\n",
    "columns_list = ['Death', 'Recovered', 'Confirmed']\n",
    "X = nCoV_20200121_20200206_dataset[columns_list] # Features\n",
    "# y = country_wise_latest_dataset.Deaths # Target variable\n",
    "y = nCoV_20200121_20200206_dataset['Confirmed']\n",
    "\n",
    "# Split dataset into training set and test set\n",
    "X_train, X_test, y_train, y_test = train_test_split(X, y, test_size=0.3, random_state=1) # 70% training and 30% test"
   ]
  },
  {
   "cell_type": "code",
   "execution_count": 75,
   "id": "042c27a3",
   "metadata": {},
   "outputs": [],
   "source": [
    "boxcox_target = stats.boxcox(nCoV_20200121_20200206_dataset.Confirmed)\n",
    "box_cox_param = boxcox_target[1]\n",
    "background_color='#fbfbfb'"
   ]
  },
  {
   "cell_type": "code",
   "execution_count": 76,
   "id": "9ab4c4c1",
   "metadata": {},
   "outputs": [],
   "source": [
    "# Function for providing generalized results for regression model\n",
    "def evaluate_model(model,x_train,y_train,x_test,y_test):\n",
    "    '''\n",
    "    Inputs\n",
    "    1. regression model eg: LinearRegression(),LassoRegression() etc.\n",
    "    2. training x data\n",
    "    3. training y data\n",
    "    4. testing x data\n",
    "    5. testing y data\n",
    "    '''\n",
    "    model.fit(x_train,y_train)\n",
    "    model_name=model.__class__.__name__\n",
    "    \n",
    "    train_score=model.score(x_train,y_train)\n",
    "    test_score=model.score(x_test,y_test)\n",
    "    print (f\"Training score: {train_score}\\nTesting score: {test_score}\")\n",
    "    \n",
    "    y_pred=model.predict(x_test)\n",
    "    print(\"Prediction completed.\")\n",
    "    df=pd.DataFrame({\"Actual\": y_test,\n",
    "                     \"Predicted\":y_pred})\n",
    "    \n",
    "    #Apply inverse box cox to retrieve original target results\n",
    "    df=inv_boxcox(df,box_cox_param)\n",
    "    \n",
    "    #Finding the difference between original and predicted\n",
    "    df[\"difference\"]=df.Predicted-df.Actual\n",
    "    df.reset_index(inplace=True)\n",
    "    \n",
    "    #Plot actual vs predicted\n",
    "    plt.figure(figsize=(10,5));\n",
    "    sns.scatterplot(data=df,x=\"index\",y=\"Actual\",color='grey',label=[\"Actual\"]).set_facecolor(background_color);\n",
    "    sns.lineplot(data=df,x=\"index\",y=\"Predicted\",color='salmon',label=[\"Predicted\"]);\n",
    "    plt.legend(loc=\"right\",bbox_to_anchor=(1.1,1));\n",
    "    plt.title(model_name+\" -Actual vs Predicted\");\n",
    "    plt.show()\n",
    "    \n",
    "    print (\"Sample comparison file for actual and predicted target feature:\")\n",
    "    display(df.head())\n",
    "    \n",
    "    # Return the model for re-use if required.\n",
    "    return model"
   ]
  },
  {
   "cell_type": "code",
   "execution_count": 77,
   "id": "7b3bd06e",
   "metadata": {},
   "outputs": [],
   "source": [
    "#General data frame and function for storing and comparing model results.\n",
    "df_model_results=pd.DataFrame(columns=[\"ModelName\",\"TrainScore\"])\n",
    "\n",
    "def store_model_results(modl_name,train_score):\n",
    "    global df_model_results\n",
    "    row_loc=df_model_results.shape[0]+1\n",
    "    df_model_results.loc[row_loc,[\"ModelName\",\"TrainScore\"]]=[modl_name,train_score]"
   ]
  },
  {
   "cell_type": "code",
   "execution_count": 78,
   "id": "30ca1a02",
   "metadata": {},
   "outputs": [],
   "source": [
    "def show_model_scores(x,y):\n",
    "    global df_model_results\n",
    "    df_model_results=df_model_results.iloc[0:0] #reset display dataframe\n",
    "    for model in  [LinearRegression(),\n",
    "                   Lasso(),\n",
    "                   Ridge(),\n",
    "                   ElasticNet()]:\n",
    "        store_model_results(model.__class__.__name__, cross_val_score(model,x,y,cv=3).mean())\n",
    "    df_model_results.sort_values(\"TrainScore\",ascending=False,inplace=True)\n",
    "    display(df_model_results)\n",
    "    display(HTML('Selected model : <b>' + df_model_results.head(1)['ModelName'].values[0] + '</b>'))"
   ]
  },
  {
   "cell_type": "code",
   "execution_count": 79,
   "id": "dfbbb547",
   "metadata": {},
   "outputs": [
    {
     "data": {
      "text/html": [
       "<div>\n",
       "<style scoped>\n",
       "    .dataframe tbody tr th:only-of-type {\n",
       "        vertical-align: middle;\n",
       "    }\n",
       "\n",
       "    .dataframe tbody tr th {\n",
       "        vertical-align: top;\n",
       "    }\n",
       "\n",
       "    .dataframe thead th {\n",
       "        text-align: right;\n",
       "    }\n",
       "</style>\n",
       "<table border=\"1\" class=\"dataframe\">\n",
       "  <thead>\n",
       "    <tr style=\"text-align: right;\">\n",
       "      <th></th>\n",
       "      <th>ModelName</th>\n",
       "      <th>TrainScore</th>\n",
       "    </tr>\n",
       "  </thead>\n",
       "  <tbody>\n",
       "    <tr>\n",
       "      <th>1</th>\n",
       "      <td>LinearRegression</td>\n",
       "      <td>1.0</td>\n",
       "    </tr>\n",
       "    <tr>\n",
       "      <th>3</th>\n",
       "      <td>Ridge</td>\n",
       "      <td>1.0</td>\n",
       "    </tr>\n",
       "    <tr>\n",
       "      <th>2</th>\n",
       "      <td>Lasso</td>\n",
       "      <td>1.0</td>\n",
       "    </tr>\n",
       "    <tr>\n",
       "      <th>4</th>\n",
       "      <td>ElasticNet</td>\n",
       "      <td>1.0</td>\n",
       "    </tr>\n",
       "  </tbody>\n",
       "</table>\n",
       "</div>"
      ],
      "text/plain": [
       "          ModelName TrainScore\n",
       "1  LinearRegression        1.0\n",
       "3             Ridge        1.0\n",
       "2             Lasso        1.0\n",
       "4        ElasticNet        1.0"
      ]
     },
     "metadata": {},
     "output_type": "display_data"
    },
    {
     "data": {
      "text/html": [
       "Selected model : <b>LinearRegression</b>"
      ],
      "text/plain": [
       "<IPython.core.display.HTML object>"
      ]
     },
     "metadata": {},
     "output_type": "display_data"
    }
   ],
   "source": [
    "# X_train, X_test, y_train, y_test\n",
    "show_model_scores(X_train,y_train)"
   ]
  },
  {
   "cell_type": "code",
   "execution_count": 80,
   "id": "423e3b48",
   "metadata": {},
   "outputs": [
    {
     "name": "stdout",
     "output_type": "stream",
     "text": [
      "Training score: 1.0\n",
      "Testing score: 1.0\n",
      "Prediction completed.\n"
     ]
    },
    {
     "data": {
      "image/png": "[encoded data removed]",
      "text/plain": [
       "<Figure size 720x360 with 1 Axes>"
      ]
     },
     "metadata": {
      "needs_background": "light"
     },
     "output_type": "display_data"
    },
    {
     "name": "stdout",
     "output_type": "stream",
     "text": [
      "Sample comparison file for actual and predicted target feature:\n"
     ]
    },
    {
     "data": {
      "text/html": [
       "<div>\n",
       "<style scoped>\n",
       "    .dataframe tbody tr th:only-of-type {\n",
       "        vertical-align: middle;\n",
       "    }\n",
       "\n",
       "    .dataframe tbody tr th {\n",
       "        vertical-align: top;\n",
       "    }\n",
       "\n",
       "    .dataframe thead th {\n",
       "        text-align: right;\n",
       "    }\n",
       "</style>\n",
       "<table border=\"1\" class=\"dataframe\">\n",
       "  <thead>\n",
       "    <tr style=\"text-align: right;\">\n",
       "      <th></th>\n",
       "      <th>index</th>\n",
       "      <th>Actual</th>\n",
       "      <th>Predicted</th>\n",
       "      <th>difference</th>\n",
       "    </tr>\n",
       "  </thead>\n",
       "  <tbody>\n",
       "    <tr>\n",
       "      <th>0</th>\n",
       "      <td>1233</td>\n",
       "      <td>NaN</td>\n",
       "      <td>NaN</td>\n",
       "      <td>NaN</td>\n",
       "    </tr>\n",
       "    <tr>\n",
       "      <th>1</th>\n",
       "      <td>608</td>\n",
       "      <td>2.923019</td>\n",
       "      <td>2.923019</td>\n",
       "      <td>9.592327e-14</td>\n",
       "    </tr>\n",
       "    <tr>\n",
       "      <th>2</th>\n",
       "      <td>589</td>\n",
       "      <td>151912.522844</td>\n",
       "      <td>151912.522844</td>\n",
       "      <td>2.130400e-08</td>\n",
       "    </tr>\n",
       "    <tr>\n",
       "      <th>3</th>\n",
       "      <td>650</td>\n",
       "      <td>NaN</td>\n",
       "      <td>NaN</td>\n",
       "      <td>NaN</td>\n",
       "    </tr>\n",
       "    <tr>\n",
       "      <th>4</th>\n",
       "      <td>1564</td>\n",
       "      <td>NaN</td>\n",
       "      <td>NaN</td>\n",
       "      <td>NaN</td>\n",
       "    </tr>\n",
       "  </tbody>\n",
       "</table>\n",
       "</div>"
      ],
      "text/plain": [
       "   index         Actual      Predicted    difference\n",
       "0   1233            NaN            NaN           NaN\n",
       "1    608       2.923019       2.923019  9.592327e-14\n",
       "2    589  151912.522844  151912.522844  2.130400e-08\n",
       "3    650            NaN            NaN           NaN\n",
       "4   1564            NaN            NaN           NaN"
      ]
     },
     "metadata": {},
     "output_type": "display_data"
    },
    {
     "data": {
      "text/plain": [
       "LinearRegression()"
      ]
     },
     "execution_count": 80,
     "metadata": {},
     "output_type": "execute_result"
    }
   ],
   "source": [
    "evaluate_model(LinearRegression(),X_train,y_train,X_test,y_test)"
   ]
  },
  {
   "cell_type": "code",
   "execution_count": 81,
   "id": "9087f89c",
   "metadata": {},
   "outputs": [
    {
     "name": "stdout",
     "output_type": "stream",
     "text": [
      "Training score: 0.9999999999999999\n",
      "Testing score: 0.9999999999999999\n",
      "Prediction completed.\n"
     ]
    },
    {
     "data": {
      "image/png": "[encoded data removed]",
      "text/plain": [
       "<Figure size 720x360 with 1 Axes>"
      ]
     },
     "metadata": {
      "needs_background": "light"
     },
     "output_type": "display_data"
    },
    {
     "name": "stdout",
     "output_type": "stream",
     "text": [
      "Sample comparison file for actual and predicted target feature:\n"
     ]
    },
    {
     "data": {
      "text/html": [
       "<div>\n",
       "<style scoped>\n",
       "    .dataframe tbody tr th:only-of-type {\n",
       "        vertical-align: middle;\n",
       "    }\n",
       "\n",
       "    .dataframe tbody tr th {\n",
       "        vertical-align: top;\n",
       "    }\n",
       "\n",
       "    .dataframe thead th {\n",
       "        text-align: right;\n",
       "    }\n",
       "</style>\n",
       "<table border=\"1\" class=\"dataframe\">\n",
       "  <thead>\n",
       "    <tr style=\"text-align: right;\">\n",
       "      <th></th>\n",
       "      <th>index</th>\n",
       "      <th>Actual</th>\n",
       "      <th>Predicted</th>\n",
       "      <th>difference</th>\n",
       "    </tr>\n",
       "  </thead>\n",
       "  <tbody>\n",
       "    <tr>\n",
       "      <th>0</th>\n",
       "      <td>1233</td>\n",
       "      <td>NaN</td>\n",
       "      <td>NaN</td>\n",
       "      <td>NaN</td>\n",
       "    </tr>\n",
       "    <tr>\n",
       "      <th>1</th>\n",
       "      <td>608</td>\n",
       "      <td>2.923019</td>\n",
       "      <td>2.923028</td>\n",
       "      <td>0.000009</td>\n",
       "    </tr>\n",
       "    <tr>\n",
       "      <th>2</th>\n",
       "      <td>589</td>\n",
       "      <td>151912.522844</td>\n",
       "      <td>151914.041309</td>\n",
       "      <td>1.518465</td>\n",
       "    </tr>\n",
       "    <tr>\n",
       "      <th>3</th>\n",
       "      <td>650</td>\n",
       "      <td>NaN</td>\n",
       "      <td>NaN</td>\n",
       "      <td>NaN</td>\n",
       "    </tr>\n",
       "    <tr>\n",
       "      <th>4</th>\n",
       "      <td>1564</td>\n",
       "      <td>NaN</td>\n",
       "      <td>NaN</td>\n",
       "      <td>NaN</td>\n",
       "    </tr>\n",
       "  </tbody>\n",
       "</table>\n",
       "</div>"
      ],
      "text/plain": [
       "   index         Actual      Predicted  difference\n",
       "0   1233            NaN            NaN         NaN\n",
       "1    608       2.923019       2.923028    0.000009\n",
       "2    589  151912.522844  151914.041309    1.518465\n",
       "3    650            NaN            NaN         NaN\n",
       "4   1564            NaN            NaN         NaN"
      ]
     },
     "metadata": {},
     "output_type": "display_data"
    },
    {
     "data": {
      "text/plain": [
       "Ridge()"
      ]
     },
     "execution_count": 81,
     "metadata": {},
     "output_type": "execute_result"
    }
   ],
   "source": [
    "evaluate_model(Ridge(),X_train,y_train,X_test,y_test)"
   ]
  },
  {
   "cell_type": "code",
   "execution_count": 82,
   "id": "2c893a0a",
   "metadata": {},
   "outputs": [
    {
     "name": "stdout",
     "output_type": "stream",
     "text": [
      "Training score: 0.9999999999989749\n",
      "Testing score: 0.9999999999989749\n",
      "Prediction completed.\n"
     ]
    },
    {
     "data": {
      "image/png": "[encoded data removed]",
      "text/plain": [
       "<Figure size 720x360 with 1 Axes>"
      ]
     },
     "metadata": {
      "needs_background": "light"
     },
     "output_type": "display_data"
    },
    {
     "name": "stdout",
     "output_type": "stream",
     "text": [
      "Sample comparison file for actual and predicted target feature:\n"
     ]
    },
    {
     "data": {
      "text/html": [
       "<div>\n",
       "<style scoped>\n",
       "    .dataframe tbody tr th:only-of-type {\n",
       "        vertical-align: middle;\n",
       "    }\n",
       "\n",
       "    .dataframe tbody tr th {\n",
       "        vertical-align: top;\n",
       "    }\n",
       "\n",
       "    .dataframe thead th {\n",
       "        text-align: right;\n",
       "    }\n",
       "</style>\n",
       "<table border=\"1\" class=\"dataframe\">\n",
       "  <thead>\n",
       "    <tr style=\"text-align: right;\">\n",
       "      <th></th>\n",
       "      <th>index</th>\n",
       "      <th>Actual</th>\n",
       "      <th>Predicted</th>\n",
       "      <th>difference</th>\n",
       "    </tr>\n",
       "  </thead>\n",
       "  <tbody>\n",
       "    <tr>\n",
       "      <th>0</th>\n",
       "      <td>1233</td>\n",
       "      <td>NaN</td>\n",
       "      <td>NaN</td>\n",
       "      <td>NaN</td>\n",
       "    </tr>\n",
       "    <tr>\n",
       "      <th>1</th>\n",
       "      <td>608</td>\n",
       "      <td>2.923019</td>\n",
       "      <td>2.923567</td>\n",
       "      <td>0.000547</td>\n",
       "    </tr>\n",
       "    <tr>\n",
       "      <th>2</th>\n",
       "      <td>589</td>\n",
       "      <td>151912.522844</td>\n",
       "      <td>152028.429073</td>\n",
       "      <td>115.906229</td>\n",
       "    </tr>\n",
       "    <tr>\n",
       "      <th>3</th>\n",
       "      <td>650</td>\n",
       "      <td>NaN</td>\n",
       "      <td>NaN</td>\n",
       "      <td>NaN</td>\n",
       "    </tr>\n",
       "    <tr>\n",
       "      <th>4</th>\n",
       "      <td>1564</td>\n",
       "      <td>NaN</td>\n",
       "      <td>NaN</td>\n",
       "      <td>NaN</td>\n",
       "    </tr>\n",
       "  </tbody>\n",
       "</table>\n",
       "</div>"
      ],
      "text/plain": [
       "   index         Actual      Predicted  difference\n",
       "0   1233            NaN            NaN         NaN\n",
       "1    608       2.923019       2.923567    0.000547\n",
       "2    589  151912.522844  152028.429073  115.906229\n",
       "3    650            NaN            NaN         NaN\n",
       "4   1564            NaN            NaN         NaN"
      ]
     },
     "metadata": {},
     "output_type": "display_data"
    },
    {
     "data": {
      "text/plain": [
       "Lasso()"
      ]
     },
     "execution_count": 82,
     "metadata": {},
     "output_type": "execute_result"
    }
   ],
   "source": [
    "evaluate_model(Lasso(),X_train,y_train,X_test,y_test)"
   ]
  },
  {
   "cell_type": "code",
   "execution_count": 83,
   "id": "254905ab",
   "metadata": {},
   "outputs": [
    {
     "name": "stdout",
     "output_type": "stream",
     "text": [
      "Training score: 0.9999999999989749\n",
      "Testing score: 0.9999999999989749\n",
      "Prediction completed.\n"
     ]
    },
    {
     "data": {
      "image/png": "[encoded data removed]",
      "text/plain": [
       "<Figure size 720x360 with 1 Axes>"
      ]
     },
     "metadata": {
      "needs_background": "light"
     },
     "output_type": "display_data"
    },
    {
     "name": "stdout",
     "output_type": "stream",
     "text": [
      "Sample comparison file for actual and predicted target feature:\n"
     ]
    },
    {
     "data": {
      "text/html": [
       "<div>\n",
       "<style scoped>\n",
       "    .dataframe tbody tr th:only-of-type {\n",
       "        vertical-align: middle;\n",
       "    }\n",
       "\n",
       "    .dataframe tbody tr th {\n",
       "        vertical-align: top;\n",
       "    }\n",
       "\n",
       "    .dataframe thead th {\n",
       "        text-align: right;\n",
       "    }\n",
       "</style>\n",
       "<table border=\"1\" class=\"dataframe\">\n",
       "  <thead>\n",
       "    <tr style=\"text-align: right;\">\n",
       "      <th></th>\n",
       "      <th>index</th>\n",
       "      <th>Actual</th>\n",
       "      <th>Predicted</th>\n",
       "      <th>difference</th>\n",
       "    </tr>\n",
       "  </thead>\n",
       "  <tbody>\n",
       "    <tr>\n",
       "      <th>0</th>\n",
       "      <td>1233</td>\n",
       "      <td>NaN</td>\n",
       "      <td>NaN</td>\n",
       "      <td>NaN</td>\n",
       "    </tr>\n",
       "    <tr>\n",
       "      <th>1</th>\n",
       "      <td>608</td>\n",
       "      <td>2.923019</td>\n",
       "      <td>2.923567</td>\n",
       "      <td>0.000547</td>\n",
       "    </tr>\n",
       "    <tr>\n",
       "      <th>2</th>\n",
       "      <td>589</td>\n",
       "      <td>151912.522844</td>\n",
       "      <td>152028.429015</td>\n",
       "      <td>115.906171</td>\n",
       "    </tr>\n",
       "    <tr>\n",
       "      <th>3</th>\n",
       "      <td>650</td>\n",
       "      <td>NaN</td>\n",
       "      <td>NaN</td>\n",
       "      <td>NaN</td>\n",
       "    </tr>\n",
       "    <tr>\n",
       "      <th>4</th>\n",
       "      <td>1564</td>\n",
       "      <td>NaN</td>\n",
       "      <td>NaN</td>\n",
       "      <td>NaN</td>\n",
       "    </tr>\n",
       "  </tbody>\n",
       "</table>\n",
       "</div>"
      ],
      "text/plain": [
       "   index         Actual      Predicted  difference\n",
       "0   1233            NaN            NaN         NaN\n",
       "1    608       2.923019       2.923567    0.000547\n",
       "2    589  151912.522844  152028.429015  115.906171\n",
       "3    650            NaN            NaN         NaN\n",
       "4   1564            NaN            NaN         NaN"
      ]
     },
     "metadata": {},
     "output_type": "display_data"
    },
    {
     "data": {
      "text/plain": [
       "ElasticNet()"
      ]
     },
     "execution_count": 83,
     "metadata": {},
     "output_type": "execute_result"
    }
   ],
   "source": [
    "evaluate_model(ElasticNet(),X_train,y_train,X_test,y_test)"
   ]
  },
  {
   "cell_type": "code",
   "execution_count": null,
   "id": "7accfc3a",
   "metadata": {},
   "outputs": [],
   "source": []
  }
 ],
 "metadata": {
  "kernelspec": {
   "display_name": "Python 3 (ipykernel)",
   "language": "python",
   "name": "python3"
  },
  "language_info": {
   "codemirror_mode": {
    "name": "ipython",
    "version": 3
   },
   "file_extension": ".py",
   "mimetype": "text/x-python",
   "name": "python",
   "nbconvert_exporter": "python",
   "pygments_lexer": "ipython3",
   "version": "3.9.12"
  }
 },
 "nbformat": 4,
 "nbformat_minor": 5
}
