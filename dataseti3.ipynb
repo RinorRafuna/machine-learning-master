{
 "cells": [
  {
   "cell_type": "code",
   "execution_count": 1,
   "id": "55e1094a",
   "metadata": {},
   "outputs": [],
   "source": [
    "import pandas as pd\n",
    "import numpy as np\n",
    "from collections import Counter\n",
    "from sklearn.feature_selection import SelectKBest\n",
    "from sklearn.feature_selection import chi2\n",
    "from sklearn.feature_selection import RFE\n",
    "from sklearn.linear_model import LogisticRegression\n",
    "from sklearn.linear_model import Ridge\n",
    "from sklearn import preprocessing\n",
    "\n",
    "from sklearn.tree import DecisionTreeClassifier # Import Decision Tree Classifier\n",
    "from sklearn.model_selection import train_test_split # Import train_test_split function\n",
    "from sklearn import metrics #Import scikit-learn metrics module for accuracy calculation\n",
    "\n",
    "from sklearn.ensemble import RandomForestClassifier\n",
    "from sklearn.naive_bayes import GaussianNB\n",
    "\n",
    "from sklearn.linear_model import LinearRegression, Lasso, Ridge, ElasticNet\n",
    "from sklearn.model_selection import cross_val_score, train_test_split, GridSearchCV\n",
    "from IPython.display import HTML\n",
    "from scipy.special import inv_boxcox\n",
    "from scipy import stats\n",
    "from matplotlib import pyplot as plt\n",
    "import seaborn as sns\n",
    "from sklearn.model_selection import cross_val_score\n",
    "from sklearn import svm"
   ]
  },
  {
   "cell_type": "code",
   "execution_count": 2,
   "id": "422f8eb1",
   "metadata": {},
   "outputs": [],
   "source": [
    "usa_county_wise_dataset = pd.read_csv(\"3. usa_county_wise.csv\")"
   ]
  },
  {
   "cell_type": "code",
   "execution_count": 3,
   "id": "82385f23",
   "metadata": {},
   "outputs": [
    {
     "name": "stdout",
     "output_type": "stream",
     "text": [
      "Numri i atributeve në dataset është: 14\n",
      "Numri i objekteve në dataset është: 627920\n"
     ]
    }
   ],
   "source": [
    "attr_obj = usa_county_wise_dataset.shape\n",
    "print(f\"Numri i atributeve në dataset është: {attr_obj[1]}\")\n",
    "print(f\"Numri i objekteve në dataset është: {attr_obj[0]}\")"
   ]
  },
  {
   "cell_type": "code",
   "execution_count": 4,
   "id": "e7cf2cd1",
   "metadata": {},
   "outputs": [
    {
     "data": {
      "text/plain": [
       "UID                 int64\n",
       "iso2               object\n",
       "iso3               object\n",
       "code3               int64\n",
       "FIPS              float64\n",
       "Admin2             object\n",
       "Province_State     object\n",
       "Country_Region     object\n",
       "Lat               float64\n",
       "Long_             float64\n",
       "Combined_Key       object\n",
       "Date               object\n",
       "Confirmed           int64\n",
       "Deaths              int64\n",
       "dtype: object"
      ]
     },
     "execution_count": 4,
     "metadata": {},
     "output_type": "execute_result"
    }
   ],
   "source": [
    "usa_county_wise_dataset.dtypes"
   ]
  },
  {
   "cell_type": "code",
   "execution_count": 5,
   "id": "32a38841",
   "metadata": {},
   "outputs": [],
   "source": [
    "def num_missing(x):\n",
    "  return sum(x.isnull())"
   ]
  },
  {
   "cell_type": "code",
   "execution_count": 6,
   "id": "9ef476ec",
   "metadata": {},
   "outputs": [
    {
     "name": "stdout",
     "output_type": "stream",
     "text": [
      "Numri i vlerave që mungojnë në çdo kolonë:\n",
      "UID                  0\n",
      "iso2                 0\n",
      "iso3                 0\n",
      "code3                0\n",
      "FIPS              1880\n",
      "Admin2            1128\n",
      "Province_State       0\n",
      "Country_Region       0\n",
      "Lat                  0\n",
      "Long_                0\n",
      "Combined_Key         0\n",
      "Date                 0\n",
      "Confirmed            0\n",
      "Deaths               0\n",
      "dtype: int64\n"
     ]
    }
   ],
   "source": [
    "print(\"Numri i vlerave që mungojnë në çdo kolonë:\")\n",
    "print(usa_county_wise_dataset.apply(num_missing, axis=0)) #axis=0 nenkupton qe funksionoi num_missing do te aplikohet ne cdo kolone"
   ]
  },
  {
   "cell_type": "code",
   "execution_count": 7,
   "id": "02d6d42e",
   "metadata": {},
   "outputs": [
    {
     "name": "stdout",
     "output_type": "stream",
     "text": [
      "Numri i rreshtave në dataset-in origjinal = 627920\n",
      "Numri i rreshtave pas largimit të rreshtave me vlera NaN = 627920\n",
      "Dataseti pas largimit të vlerave të zbrazëta:\n"
     ]
    }
   ],
   "source": [
    "#Largimi i rreshtave me vlera NaN\n",
    "print('Numri i rreshtave në dataset-in origjinal = %d' % (usa_county_wise_dataset.shape[0]))\n",
    "\n",
    "usa_county_wise_dataset = usa_county_wise_dataset.drop(['FIPS'], axis=1)\n",
    "usa_county_wise_dataset = usa_county_wise_dataset.drop(['Admin2'], axis=1)\n",
    "\n",
    "print('Numri i rreshtave pas largimit të rreshtave me vlera NaN = %d' % (usa_county_wise_dataset.shape[0]))\n",
    "print(\"Dataseti pas largimit të vlerave të zbrazëta:\")"
   ]
  },
  {
   "cell_type": "code",
   "execution_count": 8,
   "id": "e12c61f5",
   "metadata": {},
   "outputs": [
    {
     "name": "stdout",
     "output_type": "stream",
     "text": [
      "Numri i vlerave që mungojnë në çdo kolonë:\n",
      "UID               0\n",
      "iso2              0\n",
      "iso3              0\n",
      "code3             0\n",
      "Province_State    0\n",
      "Country_Region    0\n",
      "Lat               0\n",
      "Long_             0\n",
      "Combined_Key      0\n",
      "Date              0\n",
      "Confirmed         0\n",
      "Deaths            0\n",
      "dtype: int64\n"
     ]
    }
   ],
   "source": [
    "print(\"Numri i vlerave që mungojnë në çdo kolonë:\")\n",
    "print(usa_county_wise_dataset.apply(num_missing, axis=0)) #axis=0 nenkupton qe funksionoi num_missing do te aplikohet ne cdo kolone"
   ]
  },
  {
   "cell_type": "code",
   "execution_count": 9,
   "id": "769bcf4e",
   "metadata": {},
   "outputs": [
    {
     "name": "stdout",
     "output_type": "stream",
     "text": [
      "Numri i rreshtave të përsëritur = 0\n"
     ]
    }
   ],
   "source": [
    "dups = usa_county_wise_dataset.duplicated()\n",
    "print('Numri i rreshtave të përsëritur = %d' % (dups.sum()))"
   ]
  },
  {
   "cell_type": "code",
   "execution_count": 10,
   "id": "efd91956",
   "metadata": {},
   "outputs": [],
   "source": [
    "x = usa_county_wise_dataset['Confirmed']\n",
    "y = usa_county_wise_dataset['Deaths']"
   ]
  },
  {
   "cell_type": "code",
   "execution_count": 11,
   "id": "09094e62",
   "metadata": {},
   "outputs": [
    {
     "data": {
      "text/plain": [
       "Text(0, 0.5, 'Deaths')"
      ]
     },
     "execution_count": 11,
     "metadata": {},
     "output_type": "execute_result"
    },
    {
     "data": {
      "image/png": "[encoded data removed]",
      "text/plain": [
       "<Figure size 432x288 with 1 Axes>"
      ]
     },
     "metadata": {
      "needs_background": "light"
     },
     "output_type": "display_data"
    }
   ],
   "source": [
    "plt.scatter(x,y)\n",
    "plt.rcParams[\"figure.figsize\"] = (20,10)\n",
    "plt.xlabel('Confirmed')\n",
    "plt.ylabel('Deaths')"
   ]
  },
  {
   "cell_type": "code",
   "execution_count": 12,
   "id": "cb3140a8",
   "metadata": {},
   "outputs": [],
   "source": [
    "#split dataset in features and target variable\n",
    "columns_fields = ['Confirmed']\n",
    "X = usa_county_wise_dataset[columns_fields] # Features\n",
    "y = usa_county_wise_dataset.Deaths # Target variable"
   ]
  },
  {
   "cell_type": "code",
   "execution_count": 13,
   "id": "22301c0a",
   "metadata": {},
   "outputs": [],
   "source": [
    "# Split dataset into training set and test set\n",
    "X_train, X_test, y_train, y_test = train_test_split(X, y, test_size=0.3, random_state=1) # 70% training and 30% test"
   ]
  },
  {
   "cell_type": "code",
   "execution_count": 15,
   "id": "05bdbb3b",
   "metadata": {},
   "outputs": [],
   "source": [
    "clf = svm.SVC(kernel='linear', C=1, random_state=42)"
   ]
  },
  {
   "cell_type": "code",
   "execution_count": null,
   "id": "efec9f90",
   "metadata": {},
   "outputs": [
    {
     "name": "stderr",
     "output_type": "stream",
     "text": [
      "C:\\Users\\HP\\anaconda3\\lib\\site-packages\\sklearn\\model_selection\\_split.py:676: UserWarning: The least populated class in y has only 1 members, which is less than n_splits=5.\n",
      "  warnings.warn(\n"
     ]
    }
   ],
   "source": [
    "scores = cross_val_score(clf, X, y, cv=5)"
   ]
  },
  {
   "cell_type": "code",
   "execution_count": null,
   "id": "0421522e",
   "metadata": {},
   "outputs": [],
   "source": [
    "print(\"%0.2f accuracy with a standard deviation of %0.2f\" % (scores.mean(), scores.std()))"
   ]
  },
  {
   "cell_type": "code",
   "execution_count": 14,
   "id": "bc1efdeb",
   "metadata": {},
   "outputs": [],
   "source": [
    "# Create Decision Tree classifer object\n",
    "clf_decission_tree = DecisionTreeClassifier()\n",
    "\n",
    "# Train Decision Tree Classifer\n",
    "clf_decission_tree = clf_decission_tree.fit(X_train,y_train)\n",
    "\n",
    "#Predict the response for test dataset\n",
    "y_pred_decission_tree_clf = clf_decission_tree.predict(X_test)"
   ]
  },
  {
   "cell_type": "code",
   "execution_count": 16,
   "id": "5e0ab60b",
   "metadata": {},
   "outputs": [
    {
     "name": "stdout",
     "output_type": "stream",
     "text": [
      "Accuracy: 0.6834840956385102\n",
      "Mean Absolute Error: 10.253466471312693\n",
      "Correct Score: 0.6834840956385102\n",
      "Kappa Score: 0.2438683863359229\n"
     ]
    }
   ],
   "source": [
    "# Model Accuracy, how often is the classifier correct?\n",
    "print(\"Accuracy:\",metrics.accuracy_score(y_test, y_pred_decission_tree_clf))\n",
    "print(\"Mean Absolute Error:\",metrics.mean_absolute_error(y_test, y_pred_decission_tree_clf))\n",
    "print(\"Correct Score:\",metrics.recall_score(y_test, y_pred_decission_tree_clf, average='micro'))\n",
    "print(\"Kappa Score:\",metrics.cohen_kappa_score(y_test, y_pred_decission_tree_clf))"
   ]
  },
  {
   "cell_type": "code",
   "execution_count": 17,
   "id": "f311b047",
   "metadata": {},
   "outputs": [
    {
     "data": {
      "text/plain": [
       "array([[126718,    684,    371, ...,      0,      0,      0],\n",
       "       [ 13780,    630,    300, ...,      0,      0,      0],\n",
       "       [  5981,    525,    363, ...,      0,      0,      0],\n",
       "       ...,\n",
       "       [     0,      0,      0, ...,      0,      0,      0],\n",
       "       [     0,      0,      0, ...,      0,      0,      1],\n",
       "       [     0,      0,      0, ...,      0,      0,      0]], dtype=int64)"
      ]
     },
     "execution_count": 17,
     "metadata": {},
     "output_type": "execute_result"
    }
   ],
   "source": [
    "clf_decission_tree_confusion_matrix = metrics.confusion_matrix(y_test, y_pred_decission_tree_clf)\n",
    "clf_decission_tree_confusion_matrix"
   ]
  },
  {
   "cell_type": "code",
   "execution_count": 18,
   "id": "ec5bbf44",
   "metadata": {},
   "outputs": [],
   "source": [
    "#Create a Random Forest Classifier\n",
    "clf_random_forest = RandomForestClassifier(n_estimators=100)\n",
    "\n",
    "#Train the model using the training sets y_pred=clf.predict(X_test)\n",
    "clf_random_forest.fit(X_train,y_train)\n",
    "\n",
    "y_pred_random_forest_clf = clf_random_forest.predict(X_test)"
   ]
  },
  {
   "cell_type": "code",
   "execution_count": 19,
   "id": "91853178",
   "metadata": {},
   "outputs": [
    {
     "name": "stdout",
     "output_type": "stream",
     "text": [
      "Accuracy: 0.6828629974094365\n",
      "Mean Absolute Error: 10.40704229838196\n",
      "Correct Score: 0.6828629974094365\n",
      "Kappa Score: 0.25143393411587256\n"
     ]
    }
   ],
   "source": [
    "# Model Accuracy, how often is the classifier correct?\n",
    "print(\"Accuracy:\",metrics.accuracy_score(y_test, y_pred_random_forest_clf))\n",
    "print(\"Mean Absolute Error:\",metrics.mean_absolute_error(y_test, y_pred_random_forest_clf))\n",
    "print(\"Correct Score:\",metrics.recall_score(y_test, y_pred_random_forest_clf, average='micro'))\n",
    "print(\"Kappa Score:\",metrics.cohen_kappa_score(y_test, y_pred_random_forest_clf))"
   ]
  },
  {
   "cell_type": "code",
   "execution_count": 20,
   "id": "efb8841b",
   "metadata": {},
   "outputs": [
    {
     "data": {
      "text/plain": [
       "array([[126607,    707,    370, ...,      0,      0,      0],\n",
       "       [ 13695,    636,    293, ...,      0,      0,      0],\n",
       "       [  5887,    522,    360, ...,      0,      0,      0],\n",
       "       ...,\n",
       "       [     0,      0,      0, ...,      0,      0,      0],\n",
       "       [     0,      0,      0, ...,      0,      0,      1],\n",
       "       [     0,      0,      0, ...,      0,      0,      0]], dtype=int64)"
      ]
     },
     "execution_count": 20,
     "metadata": {},
     "output_type": "execute_result"
    }
   ],
   "source": [
    "clf_random_forest_confusion_matrix = metrics.confusion_matrix(y_test, y_pred_random_forest_clf)\n",
    "clf_random_forest_confusion_matrix"
   ]
  },
  {
   "cell_type": "code",
   "execution_count": 21,
   "id": "b7aea28b",
   "metadata": {},
   "outputs": [],
   "source": [
    "# Create a Gaussian Classifier\n",
    "clf_gaussian = GaussianNB()\n",
    "clf_gaussian.fit(X_train, y_train)\n",
    "y_pred_gaussian_clf = clf_gaussian.predict(X_test)"
   ]
  },
  {
   "cell_type": "code",
   "execution_count": 22,
   "id": "59f4532c",
   "metadata": {},
   "outputs": [
    {
     "name": "stdout",
     "output_type": "stream",
     "text": [
      "Accuracy: 0.6818437592899308\n",
      "Mean Absolute Error: 12.319313500658257\n",
      "Correct Score: 0.6818437592899308\n",
      "Kappa Score: 0.12089702896915389\n"
     ]
    }
   ],
   "source": [
    "# Model Accuracy, how often is the classifier correct?\n",
    "print(\"Accuracy:\",metrics.accuracy_score(y_test, y_pred_gaussian_clf))\n",
    "print(\"Mean Absolute Error:\",metrics.mean_absolute_error(y_test, y_pred_gaussian_clf))\n",
    "print(\"Correct Score:\",metrics.recall_score(y_test, y_pred_gaussian_clf, average='micro'))\n",
    "print(\"Kappa Score:\",metrics.cohen_kappa_score(y_test, y_pred_gaussian_clf))"
   ]
  },
  {
   "cell_type": "code",
   "execution_count": 23,
   "id": "0d2ec9c1",
   "metadata": {},
   "outputs": [
    {
     "data": {
      "text/plain": [
       "array([[128220,      0,      0, ...,      0,      0,      0],\n",
       "       [ 15156,      0,      0, ...,      0,      0,      0],\n",
       "       [  7415,      0,      0, ...,      0,      0,      0],\n",
       "       ...,\n",
       "       [     0,      0,      0, ...,      0,      0,      0],\n",
       "       [     0,      0,      0, ...,      0,      0,      0],\n",
       "       [     0,      0,      0, ...,      0,      0,      0]], dtype=int64)"
      ]
     },
     "execution_count": 23,
     "metadata": {},
     "output_type": "execute_result"
    }
   ],
   "source": [
    "clf_gaussian_confusion_matrix = metrics.confusion_matrix(y_test, y_pred_gaussian_clf)\n",
    "clf_gaussian_confusion_matrix"
   ]
  },
  {
   "cell_type": "code",
   "execution_count": 24,
   "id": "9acbcc8c",
   "metadata": {},
   "outputs": [],
   "source": [
    "#split dataset in features and target variable\n",
    "columns_list = ['Confirmed']\n",
    "X = usa_county_wise_dataset[columns_list] # Features\n",
    "# y = country_wise_latest_dataset.Deaths # Target variable\n",
    "y = usa_county_wise_dataset['Deaths']\n",
    "\n",
    "# Split dataset into training set and test set\n",
    "X_train, X_test, y_train, y_test = train_test_split(X, y, test_size=0.3, random_state=1) # 70% training and 30% test"
   ]
  },
  {
   "cell_type": "code",
   "execution_count": 25,
   "id": "685e8c16",
   "metadata": {},
   "outputs": [
    {
     "name": "stdout",
     "output_type": "stream",
     "text": [
      "627920\n",
      "Finished first loop\n",
      "Item 0 out of 627920\n",
      "Item 20000 out of 627920\n",
      "Item 40000 out of 627920\n",
      "Item 60000 out of 627920\n",
      "Item 80000 out of 627920\n",
      "Item 100000 out of 627920\n",
      "Item 120000 out of 627920\n",
      "Item 140000 out of 627920\n",
      "Item 160000 out of 627920\n",
      "Item 180000 out of 627920\n",
      "Item 200000 out of 627920\n",
      "Item 220000 out of 627920\n",
      "Item 240000 out of 627920\n",
      "Item 260000 out of 627920\n",
      "Item 280000 out of 627920\n",
      "Item 300000 out of 627920\n",
      "Item 320000 out of 627920\n",
      "Item 340000 out of 627920\n",
      "Item 360000 out of 627920\n",
      "Item 380000 out of 627920\n",
      "Item 400000 out of 627920\n",
      "Item 420000 out of 627920\n",
      "Item 440000 out of 627920\n",
      "Item 460000 out of 627920\n",
      "Item 480000 out of 627920\n",
      "Item 500000 out of 627920\n",
      "Item 520000 out of 627920\n",
      "Item 540000 out of 627920\n",
      "Item 560000 out of 627920\n",
      "Item 580000 out of 627920\n",
      "Item 600000 out of 627920\n",
      "Item 620000 out of 627920\n",
      "Finished\n"
     ]
    }
   ],
   "source": [
    "count_field = usa_county_wise_dataset['Deaths']\n",
    "count_field = pd.DataFrame(count_field)\n",
    "# count_field = count_field.reset_index()\n",
    "print(len(count_field))\n",
    "totali = len(count_field)\n",
    "# pozita = 0\n",
    "# for index, row in count_field.iterrows():\n",
    "#     if pozita % 20000 == 0:\n",
    "#         print(f'Item {pozita} out of {totali}')\n",
    "#     pozita += 1\n",
    "#     try:\n",
    "#         if row['Confirmed'] == 0:\n",
    "#             count_field = count_field.drop(count_field.index[index])\n",
    "#         elif row['Confirmed'] < 0:\n",
    "#             count_field = count_field.drop(count_field.index[index])\n",
    "#     except Exception as e:\n",
    "#         continue\n",
    "\n",
    "final_count_field = []\n",
    "print('Finished first loop')\n",
    "pozita = 0\n",
    "for item in count_field['Deaths']:\n",
    "    if pozita % 20000 == 0:\n",
    "        print(f'Item {pozita} out of {totali}')\n",
    "    pozita += 1\n",
    "    if item > 0:\n",
    "        final_count_field.append(item)\n",
    "        \n",
    "boxcox_target = stats.boxcox(final_count_field)\n",
    "box_cox_param = boxcox_target[1]\n",
    "background_color='#fbfbfb'\n",
    "print('Finished')"
   ]
  },
  {
   "cell_type": "code",
   "execution_count": 26,
   "id": "d87f9312",
   "metadata": {},
   "outputs": [],
   "source": [
    "# Function for providing generalized results for regression model\n",
    "def evaluate_model(model,x_train,y_train,x_test,y_test):\n",
    "    '''\n",
    "    Inputs\n",
    "    1. regression model eg: LinearRegression(),LassoRegression() etc.\n",
    "    2. training x data\n",
    "    3. training y data\n",
    "    4. testing x data\n",
    "    5. testing y data\n",
    "    '''\n",
    "    model.fit(x_train,y_train)\n",
    "    model_name=model.__class__.__name__\n",
    "    \n",
    "    train_score=model.score(x_train,y_train)\n",
    "    test_score=model.score(x_test,y_test)\n",
    "    print (f\"Training score: {train_score}\\nTesting score: {test_score}\")\n",
    "    \n",
    "    y_pred=model.predict(x_test)\n",
    "    print(\"Prediction completed.\")\n",
    "    df=pd.DataFrame({\"Actual\": y_test,\n",
    "                     \"Predicted\":y_pred})\n",
    "    \n",
    "    #Apply inverse box cox to retrieve original target results\n",
    "    df=inv_boxcox(df,box_cox_param)\n",
    "    \n",
    "    #Finding the difference between original and predicted\n",
    "    df[\"difference\"]=df.Predicted-df.Actual\n",
    "    df.reset_index(inplace=True)\n",
    "    \n",
    "    #Plot actual vs predicted\n",
    "    plt.figure(figsize=(10,5));\n",
    "    sns.scatterplot(data=df,x=\"index\",y=\"Actual\",color='grey',label=[\"Actual\"]).set_facecolor(background_color);\n",
    "    sns.lineplot(data=df,x=\"index\",y=\"Predicted\",color='salmon',label=[\"Predicted\"]);\n",
    "    plt.legend(loc=\"right\",bbox_to_anchor=(1.1,1));\n",
    "    plt.title(model_name+\" -Actual vs Predicted\");\n",
    "    plt.show()\n",
    "    \n",
    "    print (\"Sample comparison file for actual and predicted target feature:\")\n",
    "    display(df.head())\n",
    "    \n",
    "    # Return the model for re-use if required.\n",
    "    return model"
   ]
  },
  {
   "cell_type": "code",
   "execution_count": 27,
   "id": "ba516343",
   "metadata": {},
   "outputs": [],
   "source": [
    "#General data frame and function for storing and comparing model results.\n",
    "df_model_results=pd.DataFrame(columns=[\"ModelName\",\"TrainScore\"])\n",
    "\n",
    "def store_model_results(modl_name,train_score):\n",
    "    global df_model_results\n",
    "    row_loc=df_model_results.shape[0]+1\n",
    "    df_model_results.loc[row_loc,[\"ModelName\",\"TrainScore\"]]=[modl_name,train_score]"
   ]
  },
  {
   "cell_type": "code",
   "execution_count": 28,
   "id": "d8c7f56f",
   "metadata": {},
   "outputs": [],
   "source": [
    "def show_model_scores(x,y):\n",
    "    global df_model_results\n",
    "    df_model_results=df_model_results.iloc[0:0] #reset display dataframe\n",
    "    for model in  [LinearRegression(),\n",
    "                   Lasso(),\n",
    "                   Ridge(),\n",
    "                   ElasticNet()]:\n",
    "        store_model_results(model.__class__.__name__, cross_val_score(model,x,y,cv=3).mean())\n",
    "    df_model_results.sort_values(\"TrainScore\",ascending=False,inplace=True)\n",
    "    display(df_model_results)\n",
    "    display(HTML('Selected model : <b>' + df_model_results.head(1)['ModelName'].values[0] + '</b>'))"
   ]
  },
  {
   "cell_type": "code",
   "execution_count": 29,
   "id": "f47698e6",
   "metadata": {},
   "outputs": [
    {
     "data": {
      "text/html": [
       "<div>\n",
       "<style scoped>\n",
       "    .dataframe tbody tr th:only-of-type {\n",
       "        vertical-align: middle;\n",
       "    }\n",
       "\n",
       "    .dataframe tbody tr th {\n",
       "        vertical-align: top;\n",
       "    }\n",
       "\n",
       "    .dataframe thead th {\n",
       "        text-align: right;\n",
       "    }\n",
       "</style>\n",
       "<table border=\"1\" class=\"dataframe\">\n",
       "  <thead>\n",
       "    <tr style=\"text-align: right;\">\n",
       "      <th></th>\n",
       "      <th>ModelName</th>\n",
       "      <th>TrainScore</th>\n",
       "    </tr>\n",
       "  </thead>\n",
       "  <tbody>\n",
       "    <tr>\n",
       "      <th>2</th>\n",
       "      <td>Lasso</td>\n",
       "      <td>0.812119</td>\n",
       "    </tr>\n",
       "    <tr>\n",
       "      <th>4</th>\n",
       "      <td>ElasticNet</td>\n",
       "      <td>0.812119</td>\n",
       "    </tr>\n",
       "    <tr>\n",
       "      <th>3</th>\n",
       "      <td>Ridge</td>\n",
       "      <td>0.812119</td>\n",
       "    </tr>\n",
       "    <tr>\n",
       "      <th>1</th>\n",
       "      <td>LinearRegression</td>\n",
       "      <td>0.812119</td>\n",
       "    </tr>\n",
       "  </tbody>\n",
       "</table>\n",
       "</div>"
      ],
      "text/plain": [
       "          ModelName TrainScore\n",
       "2             Lasso   0.812119\n",
       "4        ElasticNet   0.812119\n",
       "3             Ridge   0.812119\n",
       "1  LinearRegression   0.812119"
      ]
     },
     "metadata": {},
     "output_type": "display_data"
    },
    {
     "data": {
      "text/html": [
       "Selected model : <b>Lasso</b>"
      ],
      "text/plain": [
       "<IPython.core.display.HTML object>"
      ]
     },
     "metadata": {},
     "output_type": "display_data"
    }
   ],
   "source": [
    "# X_train, X_test, y_train, y_test\n",
    "show_model_scores(X_train,y_train)"
   ]
  },
  {
   "cell_type": "code",
   "execution_count": 30,
   "id": "21e8ee0d",
   "metadata": {},
   "outputs": [
    {
     "name": "stdout",
     "output_type": "stream",
     "text": [
      "Training score: 0.8129615211589605\n",
      "Testing score: 0.7937789652075178\n",
      "Prediction completed.\n"
     ]
    },
    {
     "data": {
      "image/png": "[encoded data removed]",
      "text/plain": [
       "<Figure size 720x360 with 1 Axes>"
      ]
     },
     "metadata": {
      "needs_background": "light"
     },
     "output_type": "display_data"
    },
    {
     "name": "stdout",
     "output_type": "stream",
     "text": [
      "Sample comparison file for actual and predicted target feature:\n"
     ]
    },
    {
     "data": {
      "text/html": [
       "<div>\n",
       "<style scoped>\n",
       "    .dataframe tbody tr th:only-of-type {\n",
       "        vertical-align: middle;\n",
       "    }\n",
       "\n",
       "    .dataframe tbody tr th {\n",
       "        vertical-align: top;\n",
       "    }\n",
       "\n",
       "    .dataframe thead th {\n",
       "        text-align: right;\n",
       "    }\n",
       "</style>\n",
       "<table border=\"1\" class=\"dataframe\">\n",
       "  <thead>\n",
       "    <tr style=\"text-align: right;\">\n",
       "      <th></th>\n",
       "      <th>index</th>\n",
       "      <th>Actual</th>\n",
       "      <th>Predicted</th>\n",
       "      <th>difference</th>\n",
       "    </tr>\n",
       "  </thead>\n",
       "  <tbody>\n",
       "    <tr>\n",
       "      <th>0</th>\n",
       "      <td>468427</td>\n",
       "      <td>NaN</td>\n",
       "      <td>NaN</td>\n",
       "      <td>NaN</td>\n",
       "    </tr>\n",
       "    <tr>\n",
       "      <th>1</th>\n",
       "      <td>337744</td>\n",
       "      <td>322.408269</td>\n",
       "      <td>0.049971</td>\n",
       "      <td>-322.358298</td>\n",
       "    </tr>\n",
       "    <tr>\n",
       "      <th>2</th>\n",
       "      <td>406542</td>\n",
       "      <td>1.000000</td>\n",
       "      <td>0.010071</td>\n",
       "      <td>-0.989929</td>\n",
       "    </tr>\n",
       "    <tr>\n",
       "      <th>3</th>\n",
       "      <td>358929</td>\n",
       "      <td>322.408269</td>\n",
       "      <td>0.033152</td>\n",
       "      <td>-322.375117</td>\n",
       "    </tr>\n",
       "    <tr>\n",
       "      <th>4</th>\n",
       "      <td>278314</td>\n",
       "      <td>1.000000</td>\n",
       "      <td>0.006423</td>\n",
       "      <td>-0.993577</td>\n",
       "    </tr>\n",
       "  </tbody>\n",
       "</table>\n",
       "</div>"
      ],
      "text/plain": [
       "    index      Actual  Predicted  difference\n",
       "0  468427         NaN        NaN         NaN\n",
       "1  337744  322.408269   0.049971 -322.358298\n",
       "2  406542    1.000000   0.010071   -0.989929\n",
       "3  358929  322.408269   0.033152 -322.375117\n",
       "4  278314    1.000000   0.006423   -0.993577"
      ]
     },
     "metadata": {},
     "output_type": "display_data"
    },
    {
     "data": {
      "text/plain": [
       "LinearRegression()"
      ]
     },
     "execution_count": 30,
     "metadata": {},
     "output_type": "execute_result"
    }
   ],
   "source": [
    "evaluate_model(LinearRegression(),X_train,y_train,X_test,y_test)"
   ]
  },
  {
   "cell_type": "code",
   "execution_count": 31,
   "id": "84c201bc",
   "metadata": {},
   "outputs": [
    {
     "name": "stdout",
     "output_type": "stream",
     "text": [
      "Training score: 0.8129615211589605\n",
      "Testing score: 0.7937789652075218\n",
      "Prediction completed.\n"
     ]
    },
    {
     "data": {
      "image/png": "[encoded data removed]",
      "text/plain": [
       "<Figure size 720x360 with 1 Axes>"
      ]
     },
     "metadata": {
      "needs_background": "light"
     },
     "output_type": "display_data"
    },
    {
     "name": "stdout",
     "output_type": "stream",
     "text": [
      "Sample comparison file for actual and predicted target feature:\n"
     ]
    },
    {
     "data": {
      "text/html": [
       "<div>\n",
       "<style scoped>\n",
       "    .dataframe tbody tr th:only-of-type {\n",
       "        vertical-align: middle;\n",
       "    }\n",
       "\n",
       "    .dataframe tbody tr th {\n",
       "        vertical-align: top;\n",
       "    }\n",
       "\n",
       "    .dataframe thead th {\n",
       "        text-align: right;\n",
       "    }\n",
       "</style>\n",
       "<table border=\"1\" class=\"dataframe\">\n",
       "  <thead>\n",
       "    <tr style=\"text-align: right;\">\n",
       "      <th></th>\n",
       "      <th>index</th>\n",
       "      <th>Actual</th>\n",
       "      <th>Predicted</th>\n",
       "      <th>difference</th>\n",
       "    </tr>\n",
       "  </thead>\n",
       "  <tbody>\n",
       "    <tr>\n",
       "      <th>0</th>\n",
       "      <td>468427</td>\n",
       "      <td>NaN</td>\n",
       "      <td>NaN</td>\n",
       "      <td>NaN</td>\n",
       "    </tr>\n",
       "    <tr>\n",
       "      <th>1</th>\n",
       "      <td>337744</td>\n",
       "      <td>322.408269</td>\n",
       "      <td>0.049971</td>\n",
       "      <td>-322.358298</td>\n",
       "    </tr>\n",
       "    <tr>\n",
       "      <th>2</th>\n",
       "      <td>406542</td>\n",
       "      <td>1.000000</td>\n",
       "      <td>0.010071</td>\n",
       "      <td>-0.989929</td>\n",
       "    </tr>\n",
       "    <tr>\n",
       "      <th>3</th>\n",
       "      <td>358929</td>\n",
       "      <td>322.408269</td>\n",
       "      <td>0.033152</td>\n",
       "      <td>-322.375117</td>\n",
       "    </tr>\n",
       "    <tr>\n",
       "      <th>4</th>\n",
       "      <td>278314</td>\n",
       "      <td>1.000000</td>\n",
       "      <td>0.006423</td>\n",
       "      <td>-0.993577</td>\n",
       "    </tr>\n",
       "  </tbody>\n",
       "</table>\n",
       "</div>"
      ],
      "text/plain": [
       "    index      Actual  Predicted  difference\n",
       "0  468427         NaN        NaN         NaN\n",
       "1  337744  322.408269   0.049971 -322.358298\n",
       "2  406542    1.000000   0.010071   -0.989929\n",
       "3  358929  322.408269   0.033152 -322.375117\n",
       "4  278314    1.000000   0.006423   -0.993577"
      ]
     },
     "metadata": {},
     "output_type": "display_data"
    },
    {
     "data": {
      "text/plain": [
       "Ridge()"
      ]
     },
     "execution_count": 31,
     "metadata": {},
     "output_type": "execute_result"
    }
   ],
   "source": [
    "evaluate_model(Ridge(),X_train,y_train,X_test,y_test)"
   ]
  },
  {
   "cell_type": "code",
   "execution_count": 32,
   "id": "552e02ef",
   "metadata": {},
   "outputs": [
    {
     "name": "stdout",
     "output_type": "stream",
     "text": [
      "Training score: 0.8129615211580783\n",
      "Testing score: 0.7937790171331188\n",
      "Prediction completed.\n"
     ]
    },
    {
     "data": {
      "image/png": "[encoded data removed]",
      "text/plain": [
       "<Figure size 720x360 with 1 Axes>"
      ]
     },
     "metadata": {
      "needs_background": "light"
     },
     "output_type": "display_data"
    },
    {
     "name": "stdout",
     "output_type": "stream",
     "text": [
      "Sample comparison file for actual and predicted target feature:\n"
     ]
    },
    {
     "data": {
      "text/html": [
       "<div>\n",
       "<style scoped>\n",
       "    .dataframe tbody tr th:only-of-type {\n",
       "        vertical-align: middle;\n",
       "    }\n",
       "\n",
       "    .dataframe tbody tr th {\n",
       "        vertical-align: top;\n",
       "    }\n",
       "\n",
       "    .dataframe thead th {\n",
       "        text-align: right;\n",
       "    }\n",
       "</style>\n",
       "<table border=\"1\" class=\"dataframe\">\n",
       "  <thead>\n",
       "    <tr style=\"text-align: right;\">\n",
       "      <th></th>\n",
       "      <th>index</th>\n",
       "      <th>Actual</th>\n",
       "      <th>Predicted</th>\n",
       "      <th>difference</th>\n",
       "    </tr>\n",
       "  </thead>\n",
       "  <tbody>\n",
       "    <tr>\n",
       "      <th>0</th>\n",
       "      <td>468427</td>\n",
       "      <td>NaN</td>\n",
       "      <td>NaN</td>\n",
       "      <td>NaN</td>\n",
       "    </tr>\n",
       "    <tr>\n",
       "      <th>1</th>\n",
       "      <td>337744</td>\n",
       "      <td>322.408269</td>\n",
       "      <td>0.049971</td>\n",
       "      <td>-322.358298</td>\n",
       "    </tr>\n",
       "    <tr>\n",
       "      <th>2</th>\n",
       "      <td>406542</td>\n",
       "      <td>1.000000</td>\n",
       "      <td>0.010071</td>\n",
       "      <td>-0.989929</td>\n",
       "    </tr>\n",
       "    <tr>\n",
       "      <th>3</th>\n",
       "      <td>358929</td>\n",
       "      <td>322.408269</td>\n",
       "      <td>0.033152</td>\n",
       "      <td>-322.375117</td>\n",
       "    </tr>\n",
       "    <tr>\n",
       "      <th>4</th>\n",
       "      <td>278314</td>\n",
       "      <td>1.000000</td>\n",
       "      <td>0.006423</td>\n",
       "      <td>-0.993577</td>\n",
       "    </tr>\n",
       "  </tbody>\n",
       "</table>\n",
       "</div>"
      ],
      "text/plain": [
       "    index      Actual  Predicted  difference\n",
       "0  468427         NaN        NaN         NaN\n",
       "1  337744  322.408269   0.049971 -322.358298\n",
       "2  406542    1.000000   0.010071   -0.989929\n",
       "3  358929  322.408269   0.033152 -322.375117\n",
       "4  278314    1.000000   0.006423   -0.993577"
      ]
     },
     "metadata": {},
     "output_type": "display_data"
    },
    {
     "data": {
      "text/plain": [
       "Lasso()"
      ]
     },
     "execution_count": 32,
     "metadata": {},
     "output_type": "execute_result"
    }
   ],
   "source": [
    "evaluate_model(Lasso(),X_train,y_train,X_test,y_test)"
   ]
  },
  {
   "cell_type": "code",
   "execution_count": 33,
   "id": "b7e1d8f5",
   "metadata": {},
   "outputs": [
    {
     "name": "stdout",
     "output_type": "stream",
     "text": [
      "Training score: 0.812961521158704\n",
      "Testing score: 0.7937789932018928\n",
      "Prediction completed.\n"
     ]
    },
    {
     "data": {
      "image/png": "[encoded data removed]",
      "text/plain": [
       "<Figure size 720x360 with 1 Axes>"
      ]
     },
     "metadata": {
      "needs_background": "light"
     },
     "output_type": "display_data"
    },
    {
     "name": "stdout",
     "output_type": "stream",
     "text": [
      "Sample comparison file for actual and predicted target feature:\n"
     ]
    },
    {
     "data": {
      "text/html": [
       "<div>\n",
       "<style scoped>\n",
       "    .dataframe tbody tr th:only-of-type {\n",
       "        vertical-align: middle;\n",
       "    }\n",
       "\n",
       "    .dataframe tbody tr th {\n",
       "        vertical-align: top;\n",
       "    }\n",
       "\n",
       "    .dataframe thead th {\n",
       "        text-align: right;\n",
       "    }\n",
       "</style>\n",
       "<table border=\"1\" class=\"dataframe\">\n",
       "  <thead>\n",
       "    <tr style=\"text-align: right;\">\n",
       "      <th></th>\n",
       "      <th>index</th>\n",
       "      <th>Actual</th>\n",
       "      <th>Predicted</th>\n",
       "      <th>difference</th>\n",
       "    </tr>\n",
       "  </thead>\n",
       "  <tbody>\n",
       "    <tr>\n",
       "      <th>0</th>\n",
       "      <td>468427</td>\n",
       "      <td>NaN</td>\n",
       "      <td>NaN</td>\n",
       "      <td>NaN</td>\n",
       "    </tr>\n",
       "    <tr>\n",
       "      <th>1</th>\n",
       "      <td>337744</td>\n",
       "      <td>322.408269</td>\n",
       "      <td>0.049971</td>\n",
       "      <td>-322.358298</td>\n",
       "    </tr>\n",
       "    <tr>\n",
       "      <th>2</th>\n",
       "      <td>406542</td>\n",
       "      <td>1.000000</td>\n",
       "      <td>0.010071</td>\n",
       "      <td>-0.989929</td>\n",
       "    </tr>\n",
       "    <tr>\n",
       "      <th>3</th>\n",
       "      <td>358929</td>\n",
       "      <td>322.408269</td>\n",
       "      <td>0.033152</td>\n",
       "      <td>-322.375117</td>\n",
       "    </tr>\n",
       "    <tr>\n",
       "      <th>4</th>\n",
       "      <td>278314</td>\n",
       "      <td>1.000000</td>\n",
       "      <td>0.006423</td>\n",
       "      <td>-0.993577</td>\n",
       "    </tr>\n",
       "  </tbody>\n",
       "</table>\n",
       "</div>"
      ],
      "text/plain": [
       "    index      Actual  Predicted  difference\n",
       "0  468427         NaN        NaN         NaN\n",
       "1  337744  322.408269   0.049971 -322.358298\n",
       "2  406542    1.000000   0.010071   -0.989929\n",
       "3  358929  322.408269   0.033152 -322.375117\n",
       "4  278314    1.000000   0.006423   -0.993577"
      ]
     },
     "metadata": {},
     "output_type": "display_data"
    },
    {
     "data": {
      "text/plain": [
       "ElasticNet()"
      ]
     },
     "execution_count": 33,
     "metadata": {},
     "output_type": "execute_result"
    }
   ],
   "source": [
    "evaluate_model(ElasticNet(),X_train,y_train,X_test,y_test)"
   ]
  },
  {
   "cell_type": "code",
   "execution_count": null,
   "id": "bb07ce05",
   "metadata": {},
   "outputs": [],
   "source": []
  }
 ],
 "metadata": {
  "kernelspec": {
   "display_name": "Python 3 (ipykernel)",
   "language": "python",
   "name": "python3"
  },
  "language_info": {
   "codemirror_mode": {
    "name": "ipython",
    "version": 3
   },
   "file_extension": ".py",
   "mimetype": "text/x-python",
   "name": "python",
   "nbconvert_exporter": "python",
   "pygments_lexer": "ipython3",
   "version": "3.9.12"
  }
 },
 "nbformat": 4,
 "nbformat_minor": 5
}
